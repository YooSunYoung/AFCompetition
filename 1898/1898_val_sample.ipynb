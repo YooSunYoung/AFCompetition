{
  "nbformat": 4,
  "nbformat_minor": 0,
  "metadata": {
    "colab": {
      "name": "1898_val_sample.ipynb",
      "provenance": [],
      "collapsed_sections": []
    },
    "kernelspec": {
      "name": "python3",
      "display_name": "Python 3"
    },
    "language_info": {
      "name": "python"
    }
  },
  "cells": [
    {
      "cell_type": "code",
      "metadata": {
        "id": "3qSzxJQ52USP"
      },
      "source": [
        "#필요한 패키지를 다운로드 받습니다. \n",
        "\n",
        "import numpy as np\n",
        "import joblib"
      ],
      "execution_count": 6,
      "outputs": []
    },
    {
      "cell_type": "markdown",
      "metadata": {
        "id": "8WmM1274wpE-"
      },
      "source": [
        "검증에 사용할 시험셋의 X(test_inputs.pkl)를 다운로드 받습니다. "
      ]
    },
    {
      "cell_type": "code",
      "metadata": {
        "colab": {
          "base_uri": "https://localhost:8080/"
        },
        "id": "WHboA_AxyEVm",
        "outputId": "9087b2ab-2be3-41a6-a869-3162634844c4"
      },
      "source": [
        "!wget https://github.com/aifactory-team/AFCompetition/raw/fd5671f34d7102ea33fe63e2e5072223de8e3a45/1898/test_inputs.pkl"
      ],
      "execution_count": 33,
      "outputs": [
        {
          "output_type": "stream",
          "name": "stdout",
          "text": [
            "--2021-11-10 12:45:20--  https://github.com/aifactory-team/AFCompetition/raw/fd5671f34d7102ea33fe63e2e5072223de8e3a45/1898/test_inputs.pkl\n",
            "Resolving github.com (github.com)... 140.82.113.4\n",
            "Connecting to github.com (github.com)|140.82.113.4|:443... connected.\n",
            "HTTP request sent, awaiting response... 302 Found\n",
            "Location: https://raw.githubusercontent.com/aifactory-team/AFCompetition/fd5671f34d7102ea33fe63e2e5072223de8e3a45/1898/test_inputs.pkl [following]\n",
            "--2021-11-10 12:45:20--  https://raw.githubusercontent.com/aifactory-team/AFCompetition/fd5671f34d7102ea33fe63e2e5072223de8e3a45/1898/test_inputs.pkl\n",
            "Resolving raw.githubusercontent.com (raw.githubusercontent.com)... 185.199.108.133, 185.199.109.133, 185.199.110.133, ...\n",
            "Connecting to raw.githubusercontent.com (raw.githubusercontent.com)|185.199.108.133|:443... connected.\n",
            "HTTP request sent, awaiting response... 200 OK\n",
            "Length: 2441776 (2.3M) [application/octet-stream]\n",
            "Saving to: ‘test_inputs.pkl’\n",
            "\n",
            "test_inputs.pkl     100%[===================>]   2.33M  --.-KB/s    in 0.07s   \n",
            "\n",
            "2021-11-10 12:45:20 (35.2 MB/s) - ‘test_inputs.pkl’ saved [2441776/2441776]\n",
            "\n"
          ]
        }
      ]
    },
    {
      "cell_type": "markdown",
      "metadata": {
        "id": "YC-VEw3Bzmex"
      },
      "source": [
        "추론 모델을 정의 및 생성합니다."
      ]
    },
    {
      "cell_type": "code",
      "metadata": {
        "id": "RRfLAXl3zwtu"
      },
      "source": [
        "class my_model():\n",
        "\n",
        "    def __init__(self):\n",
        "        pass\n",
        "\n",
        "    def load(self, weight):\n",
        "        pass\n",
        "\n",
        "    def predict(self, x):\n",
        "        y_pred = [[0.0, 0.0], [0.0, 0.0]]\n",
        "\n",
        "        return y_pred"
      ],
      "execution_count": 47,
      "outputs": []
    },
    {
      "cell_type": "code",
      "metadata": {
        "id": "Zd0T5XSQ0a02"
      },
      "source": [
        "model = my_model()\n",
        "model.load(None)"
      ],
      "execution_count": 48,
      "outputs": []
    },
    {
      "cell_type": "markdown",
      "metadata": {
        "id": "6HzzctLA0iJ7"
      },
      "source": [
        "다운로드 받은 시험셋의 X를 모델에 입력하여 추론 결과를 얻습니다."
      ]
    },
    {
      "cell_type": "code",
      "metadata": {
        "id": "SI2OYUDQ0ibY"
      },
      "source": [
        "x_test = joblib.load('test_inputs.pkl')\n",
        "y_pred = model.predict(x_test)"
      ],
      "execution_count": 49,
      "outputs": []
    },
    {
      "cell_type": "markdown",
      "metadata": {
        "id": "_1lHL3Ft16VZ"
      },
      "source": [
        "추론 결과를 my_answer.pkl 이란 파일로 저장합니다."
      ]
    },
    {
      "cell_type": "code",
      "metadata": {
        "colab": {
          "base_uri": "https://localhost:8080/"
        },
        "id": "FYKq9Btf1xgX",
        "outputId": "7a8860c9-286c-44b1-a77f-9fe26c74af78"
      },
      "source": [
        "joblib.dump(y_pred, 'my_answer.pkl')"
      ],
      "execution_count": 50,
      "outputs": [
        {
          "output_type": "execute_result",
          "data": {
            "text/plain": [
              "['my_answer.pkl']"
            ]
          },
          "metadata": {},
          "execution_count": 50
        }
      ]
    },
    {
      "cell_type": "markdown",
      "metadata": {
        "id": "R3XQIj0N5VQW"
      },
      "source": [
        "검수자는 my_answer.pkl를 다운로드 받아, AIFactory 플랫폼에 제출하여 점수가 재현되는 지를 확인합니다."
      ]
    }
  ]
}