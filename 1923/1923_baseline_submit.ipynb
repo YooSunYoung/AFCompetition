{
 "nbformat": 4,
 "nbformat_minor": 0,
 "metadata": {
  "colab": {
   "name": "1897_baseline_submit.ipynb",
   "provenance": [],
   "collapsed_sections": []
  },
  "kernelspec": {
   "name": "python3",
   "display_name": "Python 3"
  },
  "language_info": {
   "name": "python"
  }
 },
 "cells": [
  {
   "cell_type": "markdown",
   "metadata": {
    "id": "gsCJbbiqT0Yl"
   },
   "source": [
    "샘플 제출 파일을 다운로드 받습니다."
   ]
  },
  {
   "cell_type": "code",
   "metadata": {
    "colab": {
     "base_uri": "https://localhost:8080/"
    },
    "id": "WHboA_AxyEVm",
    "outputId": "b33994f2-e70c-4fa0-f696-fe0cbc7e28a8"
   },
   "source": [
    "!wget https://raw.githubusercontent.com/aifactory-team/AFCompetition/main/1923/1923_test_summary.csv"
   ],
   "execution_count": 18,
   "outputs": [
    {
     "output_type": "stream",
     "name": "stdout",
     "text": [
      "--2021-11-16 16:42:23--  https://raw.githubusercontent.com/aifactory-team/AFCompetition/main/1897/1897_output_sample.csv\n",
      "Resolving raw.githubusercontent.com (raw.githubusercontent.com)... 185.199.111.133, 185.199.108.133, 185.199.110.133, ...\n",
      "Connecting to raw.githubusercontent.com (raw.githubusercontent.com)|185.199.111.133|:443... connected.\n",
      "HTTP request sent, awaiting response... 200 OK\n",
      "Length: 56219 (55K) [text/plain]\n",
      "Saving to: ‘1897_output_sample.csv.1’\n",
      "\n",
      "\r1897_output_sample.   0%[                    ]       0  --.-KB/s               \r1897_output_sample. 100%[===================>]  54.90K  --.-KB/s    in 0.01s   \n",
      "\n",
      "2021-11-16 16:42:23 (4.15 MB/s) - ‘1897_output_sample.csv.1’ saved [56219/56219]\n",
      "\n"
     ]
    }
   ]
  },
  {
   "cell_type": "code",
   "metadata": {
    "id": "sVKIcAInknp2"
   },
   "source": [
    "from random import choices\n",
    "import json\n",
    "\n",
    "with open('1923_test_summary.json') as file:\n",
    "    test_dataset = json.load(file)\n",
    "\n",
    "my_summaries = []\n",
    "for passage in test_dataset:\n",
    "    original = passage['original']\n",
    "    original = original.replace('.', '.\\n')\n",
    "    # pick 3 sentences randomly and update 'summary'\n",
    "    summary = '\\n'.join(choices(original.split('\\n'))\n",
    "    passage['summary'] = summary\n",
    "    my_summaries.append(summary)\n",
    "\n",
    "with open('1923_my_summary.json', 'w', encoding=\"UTF-8\") as file:\n",
    "    json.dump(my_summaries, file, ensure_ascii=False)"
   ],
   "execution_count": 19,
   "outputs": []
  },
  {
   "cell_type": "markdown",
   "metadata": {
    "id": "R3XQIj0N5VQW"
   },
   "source": [
    "왼쪽 사이드바에 파일 아이콘을 선택한 후, \"1923_my_summary.json\" 파일을 선택하여, 파일 이름 옆 메뉴에서 다운로드를 클릭 후 파일을 다운로드 받습니다.\n"
   ]
  },
  {
   "cell_type": "markdown",
   "metadata": {
    "id": "ZUYWCv6MU-UP"
   },
   "source": [
    "다운로드 받은 1923_my_summary.json 파일을 아래 태스크에 제출합니다. http://aifactory.space/competition/detail/1923"
   ]
  }
 ]
}