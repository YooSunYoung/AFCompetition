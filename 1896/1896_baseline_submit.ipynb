{
  "nbformat": 4,
  "nbformat_minor": 0,
  "metadata": {
    "colab": {
      "name": "1896_baseline_submit.ipynb",
      "provenance": [],
      "collapsed_sections": []
    },
    "kernelspec": {
      "name": "python3",
      "display_name": "Python 3"
    },
    "language_info": {
      "name": "python"
    }
  },
  "cells": [
    {
      "cell_type": "markdown",
      "metadata": {
        "id": "gsCJbbiqT0Yl"
      },
      "source": [
        "샘플 제출 파일을 다운로드 받습니다."
      ]
    },
    {
      "cell_type": "code",
      "metadata": {
        "colab": {
          "base_uri": "https://localhost:8080/"
        },
        "id": "WHboA_AxyEVm",
        "outputId": "5f3d8e14-9a3b-4e30-dd1b-3f6deac522e5"
      },
      "source": [
        "!wget https://github.com/aifactory-team/AFCompetition/blob/4481d197a7f3c3296ba98c9d7130f60bd1182f74/1896/sample_output_seomjingang.csv"
      ],
      "execution_count": 1,
      "outputs": [
        {
          "output_type": "stream",
          "name": "stdout",
          "text": [
            "--2021-11-16 05:54:30--  https://github.com/aifactory-team/AFCompetition/blob/4481d197a7f3c3296ba98c9d7130f60bd1182f74/1896/sample_output_seomjingang.csv\n",
            "Resolving github.com (github.com)... 140.82.112.3\n",
            "Connecting to github.com (github.com)|140.82.112.3|:443... connected.\n",
            "HTTP request sent, awaiting response... 200 OK\n",
            "Length: unspecified [text/html]\n",
            "Saving to: ‘sample_output_seomjingang.csv’\n",
            "\n",
            "\r          sample_ou     [<=>                 ]       0  --.-KB/s               \rsample_output_seomj     [ <=>                ] 165.56K  --.-KB/s    in 0.01s   \n",
            "\n",
            "2021-11-16 05:54:30 (14.2 MB/s) - ‘sample_output_seomjingang.csv’ saved [169530]\n",
            "\n"
          ]
        }
      ]
    },
    {
      "cell_type": "markdown",
      "metadata": {
        "id": "R3XQIj0N5VQW"
      },
      "source": [
        "왼쪽 사이드바에 파일 아이콘을 선택하여, \"sample_output_seomjingang.csv\" 파일을 선택하여, 파일 이름 옆 메뉴에서 다운로드를 클릭하여 파일을 다운로드 받습니다.\n",
        "\n",
        "![img](https://github.com/aifactory-team/AFCompetition/blob/b4df6db2449adb89bb3af63c9ca423eb957b3db7/1896/1896_submissioin_guide_1.png?raw=true)"
      ]
    },
    {
      "cell_type": "markdown",
      "metadata": {
        "id": "ZUYWCv6MU-UP"
      },
      "source": [
        "다운로드 받은 sample_output_seomjingang.csv 파일을 아래 태스크에 제출합니다. http://aifactory.space/competition/detail/1896"
      ]
    }
  ]
}