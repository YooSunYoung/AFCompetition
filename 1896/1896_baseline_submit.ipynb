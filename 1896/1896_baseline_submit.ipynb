{
  "nbformat": 4,
  "nbformat_minor": 0,
  "metadata": {
    "colab": {
      "name": "1896_baseline_submit.ipynb",
      "provenance": [],
      "collapsed_sections": []
    },
    "kernelspec": {
      "name": "python3",
      "display_name": "Python 3"
    },
    "language_info": {
      "name": "python"
    }
  },
  "cells": [
    {
      "cell_type": "markdown",
      "metadata": {
        "id": "gsCJbbiqT0Yl"
      },
      "source": [
        "샘플 제출 파일을 다운로드 받습니다."
      ]
    },
    {
      "cell_type": "code",
      "metadata": {
        "colab": {
          "base_uri": "https://localhost:8080/"
        },
        "id": "WHboA_AxyEVm",
        "outputId": "c7de2c2a-c4c4-4ac9-9012-6850dfa37358"
      },
      "source": [
        "!wget https://raw.githubusercontent.com/aifactory-team/AFCompetition/main/1896/sample_output_seomjingang.csv"
      ],
      "execution_count": 3,
      "outputs": [
        {
          "output_type": "stream",
          "name": "stdout",
          "text": [
            "--2021-11-16 06:14:30--  https://raw.githubusercontent.com/aifactory-team/AFCompetition/main/1896/sample_output_seomjingang.csv\n",
            "Resolving raw.githubusercontent.com (raw.githubusercontent.com)... 185.199.108.133, 185.199.109.133, 185.199.110.133, ...\n",
            "Connecting to raw.githubusercontent.com (raw.githubusercontent.com)|185.199.108.133|:443... connected.\n",
            "HTTP request sent, awaiting response... 200 OK\n",
            "Length: 1224947 (1.2M) [text/plain]\n",
            "Saving to: ‘sample_output_seomjingang.csv’\n",
            "\n",
            "\r          sample_ou   0%[                    ]       0  --.-KB/s               \rsample_output_seomj 100%[===================>]   1.17M  --.-KB/s    in 0.07s   \n",
            "\n",
            "2021-11-16 06:14:31 (17.2 MB/s) - ‘sample_output_seomjingang.csv’ saved [1224947/1224947]\n",
            "\n"
          ]
        }
      ]
    },
    {
      "cell_type": "markdown",
      "metadata": {
        "id": "R3XQIj0N5VQW"
      },
      "source": [
        "왼쪽 사이드바에 파일 아이콘을 선택하여, \"sample_output_seomjingang.csv\" 파일을 선택하여, 파일 이름 옆 메뉴에서 다운로드를 클릭하여 파일을 다운로드 받습니다.\n",
        "\n",
        "![img](https://github.com/aifactory-team/AFCompetition/blob/b4df6db2449adb89bb3af63c9ca423eb957b3db7/1896/1896_submissioin_guide_1.png?raw=true)"
      ]
    },
    {
      "cell_type": "markdown",
      "metadata": {
        "id": "ZUYWCv6MU-UP"
      },
      "source": [
        "다운로드 받은 sample_output_seomjingang.csv 파일을 아래 태스크에 제출합니다. http://aifactory.space/competition/detail/1896"
      ]
    },
    {
      "cell_type": "code",
      "metadata": {
        "id": "WvZRty-yYbsI"
      },
      "source": [
        ""
      ],
      "execution_count": 2,
      "outputs": []
    }
  ]
}