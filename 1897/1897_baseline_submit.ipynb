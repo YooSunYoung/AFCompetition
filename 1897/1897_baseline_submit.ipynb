{
 "nbformat": 4,
 "nbformat_minor": 0,
 "metadata": {
  "colab": {
   "name": "1897_baseline_submit.ipynb",
   "provenance": [],
   "collapsed_sections": []
  },
  "kernelspec": {
   "name": "python3",
   "language": "python",
   "display_name": "Python 3 (ipykernel)"
  },
  "language_info": {
   "name": "python"
  }
 },
 "cells": [
  {
   "cell_type": "markdown",
   "metadata": {
    "id": "gsCJbbiqT0Yl"
   },
   "source": [
    "샘플 제출 파일을 다운로드 받습니다."
   ]
  },
  {
   "cell_type": "code",
   "metadata": {
    "colab": {
     "base_uri": "https://localhost:8080/"
    },
    "id": "WHboA_AxyEVm",
    "outputId": "d3f31e07-261d-41a9-ff9d-588097bb8179"
   },
   "source": [
    "!wget https://raw.githubusercontent.com/aifactory-team/AFCompetition/main/1897/1897_output_sample.csv"
   ],
   "execution_count": 24,
   "outputs": [
    {
     "name": "stdout",
     "output_type": "stream",
     "text": [
      "--2021-11-17 02:01:37--  https://raw.githubusercontent.com/aifactory-team/AFCompetition/main/1897/1897_output_sample.csv\r\n",
      "Resolving raw.githubusercontent.com (raw.githubusercontent.com)... 185.199.108.133, 185.199.111.133, 185.199.109.133, ...\r\n",
      "Connecting to raw.githubusercontent.com (raw.githubusercontent.com)|185.199.108.133|:443... connected.\r\n",
      "HTTP request sent, awaiting response... 200 OK\r\n",
      "Length: 56219 (55K) [text/plain]\r\n",
      "Saving to: ‘1897_output_sample.csv.2’\r\n",
      "\r\n",
      "1897_output_sample. 100%[===================>]  54.90K  --.-KB/s    in 0.02s   \r\n",
      "\r\n",
      "2021-11-17 02:01:37 (3.47 MB/s) - ‘1897_output_sample.csv.2’ saved [56219/56219]\r\n",
      "\r\n"
     ]
    }
   ]
  },
  {
   "cell_type": "markdown",
   "source": [
    "아래 예시는 정답 셀에 랜덤한 숫자를 채워 출력합니다.\n",
    "\n",
    "참가자분들은 검증셋의 입력 데이터를 이용해 출력 값을 추론하는 모델을 이용해 정답을 만들어주세요 :)"
   ],
   "metadata": {
    "collapsed": false,
    "pycharm": {
     "name": "#%% md\n"
    }
   }
  },
  {
   "cell_type": "code",
   "execution_count": 28,
   "outputs": [
    {
     "data": {
      "text/plain": "   Unnamed: 0        AudioName  ClassID\n0           0  audio_00000.wav        0\n1           1  audio_00001.wav        0\n2           2  audio_00002.wav        1\n3           3  audio_00003.wav        0\n4           4  audio_00004.wav        0",
      "text/html": "<div>\n<style scoped>\n    .dataframe tbody tr th:only-of-type {\n        vertical-align: middle;\n    }\n\n    .dataframe tbody tr th {\n        vertical-align: top;\n    }\n\n    .dataframe thead th {\n        text-align: right;\n    }\n</style>\n<table border=\"1\" class=\"dataframe\">\n  <thead>\n    <tr style=\"text-align: right;\">\n      <th></th>\n      <th>Unnamed: 0</th>\n      <th>AudioName</th>\n      <th>ClassID</th>\n    </tr>\n  </thead>\n  <tbody>\n    <tr>\n      <th>0</th>\n      <td>0</td>\n      <td>audio_00000.wav</td>\n      <td>0</td>\n    </tr>\n    <tr>\n      <th>1</th>\n      <td>1</td>\n      <td>audio_00001.wav</td>\n      <td>0</td>\n    </tr>\n    <tr>\n      <th>2</th>\n      <td>2</td>\n      <td>audio_00002.wav</td>\n      <td>1</td>\n    </tr>\n    <tr>\n      <th>3</th>\n      <td>3</td>\n      <td>audio_00003.wav</td>\n      <td>0</td>\n    </tr>\n    <tr>\n      <th>4</th>\n      <td>4</td>\n      <td>audio_00004.wav</td>\n      <td>0</td>\n    </tr>\n  </tbody>\n</table>\n</div>"
     },
     "execution_count": 28,
     "metadata": {},
     "output_type": "execute_result"
    }
   ],
   "source": [
    "import pandas as pd\n",
    "from random import random\n",
    "\n",
    "sample_output = pd.read_csv('1897_output_sample.csv')\n",
    "sample_output[\"ClassID\"] = sample_output[\"ClassID\"].map(lambda x: round(random()))\n",
    "sample_output.to_csv('1897_output_sample.csv')\n",
    "sample_output.head(5)"
   ],
   "metadata": {
    "collapsed": false,
    "pycharm": {
     "name": "#%%\n"
    }
   }
  },
  {
   "cell_type": "markdown",
   "metadata": {
    "id": "R3XQIj0N5VQW"
   },
   "source": [
    "왼쪽 사이드바에 파일 아이콘을 선택하여, \"1897_output_sample.csv\" 파일을 선택하여, 파일 이름 옆 메뉴에서 다운로드를 클릭하여 파일을 다운로드 받습니다.\n"
   ]
  },
  {
   "cell_type": "markdown",
   "metadata": {
    "id": "ZUYWCv6MU-UP"
   },
   "source": [
    "다운로드 받은 1897_output_sample.csv 파일을 아래 태스크에 제출합니다. http://aifactory.space/competition/detail/1897"
   ]
  }
 ]
}