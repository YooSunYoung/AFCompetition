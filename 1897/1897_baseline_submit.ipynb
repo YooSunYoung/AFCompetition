{
  "nbformat": 4,
  "nbformat_minor": 0,
  "metadata": {
    "colab": {
      "name": "1897_baseline_submit.ipynb",
      "provenance": [],
      "collapsed_sections": []
    },
    "kernelspec": {
      "name": "python3",
      "display_name": "Python 3"
    },
    "language_info": {
      "name": "python"
    }
  },
  "cells": [
    {
      "cell_type": "markdown",
      "metadata": {
        "id": "gsCJbbiqT0Yl"
      },
      "source": [
        "샘플 제출 파일을 다운로드 받습니다."
      ]
    },
    {
      "cell_type": "code",
      "metadata": {
        "colab": {
          "base_uri": "https://localhost:8080/"
        },
        "id": "WHboA_AxyEVm",
        "outputId": "1ec2f2e2-8f3d-44b9-ffba-e50d0f72ad90"
      },
      "source": [
        "!wget https://raw.githubusercontent.com/aifactory-team/AFCompetition/main/1897/1897_output_sample.csv"
      ],
      "execution_count": 1,
      "outputs": [
        {
          "output_type": "stream",
          "name": "stdout",
          "text": [
            "--2021-11-16 06:30:01--  https://raw.githubusercontent.com/aifactory-team/AFCompetition/main/1897/1897_output_sample.csv\n",
            "Resolving raw.githubusercontent.com (raw.githubusercontent.com)... 185.199.108.133, 185.199.110.133, 185.199.111.133, ...\n",
            "Connecting to raw.githubusercontent.com (raw.githubusercontent.com)|185.199.108.133|:443... connected.\n",
            "HTTP request sent, awaiting response... 200 OK\n",
            "Length: 56219 (55K) [text/plain]\n",
            "Saving to: ‘1897_output_sample.csv’\n",
            "\n",
            "1897_output_sample. 100%[===================>]  54.90K  --.-KB/s    in 0.004s  \n",
            "\n",
            "2021-11-16 06:30:01 (13.0 MB/s) - ‘1897_output_sample.csv’ saved [56219/56219]\n",
            "\n"
          ]
        }
      ]
    },
    {
      "cell_type": "markdown",
      "metadata": {
        "id": "R3XQIj0N5VQW"
      },
      "source": [
        "왼쪽 사이드바에 파일 아이콘을 선택하여, \"1897_output_sample.csv\" 파일을 선택하여, 파일 이름 옆 메뉴에서 다운로드를 클릭하여 파일을 다운로드 받습니다.\n"
      ]
    },
    {
      "cell_type": "markdown",
      "metadata": {
        "id": "ZUYWCv6MU-UP"
      },
      "source": [
        "다운로드 받은 1897_output_sample.csv 파일을 아래 태스크에 제출합니다. http://aifactory.space/competition/detail/1897"
      ]
    }
  ]
}